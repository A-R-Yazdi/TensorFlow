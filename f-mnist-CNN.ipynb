{
 "cells": [
  {
   "cell_type": "code",
   "execution_count": 15,
   "metadata": {},
   "outputs": [],
   "source": [
    "import tensorflow as tf"
   ]
  },
  {
   "cell_type": "code",
   "execution_count": 16,
   "metadata": {},
   "outputs": [],
   "source": [
    "from tensorflow import keras"
   ]
  },
  {
   "cell_type": "code",
   "execution_count": 17,
   "metadata": {},
   "outputs": [],
   "source": [
    "import numpy as np"
   ]
  },
  {
   "cell_type": "code",
   "execution_count": 18,
   "metadata": {},
   "outputs": [],
   "source": [
    "import matplotlib.pyplot as plt"
   ]
  },
  {
   "cell_type": "code",
   "execution_count": 19,
   "metadata": {},
   "outputs": [],
   "source": [
    "mnist=tf.keras.datasets.fashion_mnist"
   ]
  },
  {
   "cell_type": "code",
   "execution_count": 20,
   "metadata": {},
   "outputs": [],
   "source": [
    "(training_images, training_labels),(test_images, test_labels)=mnist.load_data()"
   ]
  },
  {
   "cell_type": "code",
   "execution_count": 21,
   "metadata": {},
   "outputs": [
    {
     "name": "stdout",
     "output_type": "stream",
     "text": [
      "ltr:  60000\n",
      "lt:  10000\n"
     ]
    }
   ],
   "source": [
    "ltr=len(training_labels)\n",
    "print(\"ltr: \",ltr)\n",
    "lt=len(test_labels)\n",
    "print(\"lt: \",lt)"
   ]
  },
  {
   "cell_type": "code",
   "execution_count": 22,
   "metadata": {},
   "outputs": [
    {
     "name": "stdout",
     "output_type": "stream",
     "text": [
      "test labels:  [0 1 2 3 4 5 6 7 8 9]\n",
      "training labels: [0 1 2 3 4 5 6 7 8 9]\n"
     ]
    }
   ],
   "source": [
    "uniq_test_labels=np.unique(test_labels)\n",
    "print(\"test labels: \",uniq_test_labels)\n",
    "uniq_training_labels=np.unique(training_labels)\n",
    "print(\"training labels:\", uniq_training_labels)"
   ]
  },
  {
   "cell_type": "code",
   "execution_count": 27,
   "metadata": {},
   "outputs": [
    {
     "name": "stdout",
     "output_type": "stream",
     "text": [
      "min:  0\n",
      "max:  255\n"
     ]
    }
   ],
   "source": [
    "mi=np.min(training_images)\n",
    "print(\"min: \",mi),\n",
    "ma=np.max(training_images)\n",
    "print(\"max: \",ma)"
   ]
  },
  {
   "cell_type": "code",
   "execution_count": 28,
   "metadata": {},
   "outputs": [],
   "source": [
    "training_images= training_images/255\n",
    "test_images=test_images/255"
   ]
  },
  {
   "cell_type": "code",
   "execution_count": 39,
   "metadata": {},
   "outputs": [
    {
     "name": "stdout",
     "output_type": "stream",
     "text": [
      "6\n",
      "[[0.         0.         0.         0.00784314 0.         0.00392157\n",
      "  0.00392157 0.         0.         0.         0.         0.22352941\n",
      "  0.2627451  0.28627451 0.29803922 0.29803922 0.3254902  0.24313725\n",
      "  0.         0.         0.         0.         0.         0.\n",
      "  0.         0.         0.         0.        ]\n",
      " [0.         0.         0.         0.00392157 0.00392157 0.00392157\n",
      "  0.         0.         0.05098039 0.30980392 0.50196078 0.78823529\n",
      "  0.63529412 0.63137255 0.67843137 0.75294118 0.6745098  0.70980392\n",
      "  0.72156863 0.42352941 0.11764706 0.         0.         0.\n",
      "  0.         0.         0.         0.        ]\n",
      " [0.         0.         0.         0.         0.00392157 0.\n",
      "  0.         0.4        0.54509804 0.55686275 0.40392157 0.45098039\n",
      "  0.63529412 0.60392157 0.64705882 0.6        0.54509804 0.50588235\n",
      "  0.58823529 0.54117647 0.67058824 0.63137255 0.10196078 0.\n",
      "  0.         0.         0.         0.        ]\n",
      " [0.         0.         0.         0.00392157 0.         0.\n",
      "  0.41568627 0.48627451 0.42352941 0.40392157 0.41568627 0.36470588\n",
      "  0.39215686 0.70588235 0.61176471 0.57647059 0.54117647 0.33333333\n",
      "  0.61568627 0.44705882 0.48627451 0.60392157 0.61568627 0.\n",
      "  0.         0.         0.         0.        ]\n",
      " [0.         0.         0.         0.00784314 0.         0.11372549\n",
      "  0.5254902  0.39607843 0.44313725 0.42352941 0.38039216 0.45490196\n",
      "  0.31764706 0.57254902 0.71764706 0.64313725 0.43529412 0.57254902\n",
      "  0.51372549 0.47843137 0.51764706 0.56862745 0.6627451  0.36470588\n",
      "  0.         0.00392157 0.         0.        ]\n",
      " [0.         0.         0.         0.         0.         0.25490196\n",
      "  0.51372549 0.41176471 0.39607843 0.42352941 0.39215686 0.40784314\n",
      "  0.38039216 0.29019608 0.80784314 0.68235294 0.45098039 0.58823529\n",
      "  0.42352941 0.46666667 0.57254902 0.59607843 0.63529412 0.55294118\n",
      "  0.         0.         0.         0.        ]\n",
      " [0.         0.         0.         0.         0.         0.42352941\n",
      "  0.48235294 0.43921569 0.41568627 0.38431373 0.39215686 0.39607843\n",
      "  0.43529412 0.28235294 0.53333333 0.51764706 0.43921569 0.45098039\n",
      "  0.42745098 0.55686275 0.58823529 0.62745098 0.63529412 0.76470588\n",
      "  0.         0.         0.         0.        ]\n",
      " [0.         0.         0.         0.         0.         0.52941176\n",
      "  0.47843137 0.46666667 0.43921569 0.3254902  0.36470588 0.38039216\n",
      "  0.41568627 0.45098039 0.35686275 0.42745098 0.3254902  0.42745098\n",
      "  0.49019608 0.64705882 0.54901961 0.75686275 0.62745098 0.69019608\n",
      "  0.02352941 0.         0.         0.        ]\n",
      " [0.         0.         0.         0.         0.09019608 0.52941176\n",
      "  0.51764706 0.58431373 0.40784314 0.30588235 0.37647059 0.38039216\n",
      "  0.40392157 0.42352941 0.42352941 0.45098039 0.32941176 0.44705882\n",
      "  0.58431373 0.61960784 0.57647059 0.81960784 0.62745098 0.69803922\n",
      "  0.20392157 0.         0.         0.        ]\n",
      " [0.         0.         0.         0.         0.22352941 0.48627451\n",
      "  0.51372549 0.62745098 0.40392157 0.37647059 0.39607843 0.42745098\n",
      "  0.42745098 0.43529412 0.42352941 0.44705882 0.41568627 0.44313725\n",
      "  0.61176471 0.63921569 0.61176471 0.76862745 0.65490196 0.68235294\n",
      "  0.33333333 0.         0.         0.        ]\n",
      " [0.         0.         0.         0.         0.3372549  0.45490196\n",
      "  0.49411765 0.62745098 0.51764706 0.4        0.37647059 0.40784314\n",
      "  0.41960784 0.38431373 0.36470588 0.48235294 0.45490196 0.43921569\n",
      "  0.58431373 0.62745098 0.70980392 0.72941176 0.63529412 0.63529412\n",
      "  0.48235294 0.         0.         0.        ]\n",
      " [0.         0.         0.         0.         0.43921569 0.44705882\n",
      "  0.43921569 0.65490196 0.57254902 0.39215686 0.39215686 0.39607843\n",
      "  0.41960784 0.37647059 0.39215686 0.49411765 0.40392157 0.47058824\n",
      "  0.55294118 0.61960784 0.65490196 0.73333333 0.57647059 0.58039216\n",
      "  0.66666667 0.         0.         0.        ]\n",
      " [0.         0.         0.         0.         0.48627451 0.4627451\n",
      "  0.39607843 0.77254902 0.34901961 0.39607843 0.39215686 0.37647059\n",
      "  0.42352941 0.40392157 0.42352941 0.47843137 0.41960784 0.49803922\n",
      "  0.54509804 0.58823529 0.46666667 0.76862745 0.56862745 0.55686275\n",
      "  0.70196078 0.         0.         0.        ]\n",
      " [0.         0.         0.         0.         0.51372549 0.45098039\n",
      "  0.38039216 0.77647059 0.18431373 0.42352941 0.37647059 0.37647059\n",
      "  0.41568627 0.46666667 0.4        0.47058824 0.40392157 0.48235294\n",
      "  0.54901961 0.58823529 0.31764706 0.80784314 0.57254902 0.52941176\n",
      "  0.76078431 0.         0.         0.        ]\n",
      " [0.         0.         0.         0.01568627 0.53333333 0.4627451\n",
      "  0.38431373 0.75686275 0.08235294 0.42745098 0.37647059 0.41568627\n",
      "  0.4        0.50588235 0.39215686 0.46666667 0.4        0.4627451\n",
      "  0.55294118 0.6        0.17647059 0.84705882 0.58039216 0.54509804\n",
      "  0.80392157 0.04705882 0.         0.        ]\n",
      " [0.         0.         0.         0.09411765 0.5372549  0.45882353\n",
      "  0.39607843 0.73333333 0.09803922 0.44313725 0.36078431 0.43921569\n",
      "  0.36862745 0.47058824 0.41176471 0.49803922 0.38039216 0.45098039\n",
      "  0.55686275 0.58823529 0.0745098  0.83529412 0.58039216 0.51372549\n",
      "  0.8        0.14117647 0.         0.        ]\n",
      " [0.         0.         0.         0.15686275 0.55294118 0.42745098\n",
      "  0.45882353 0.61960784 0.04705882 0.48627451 0.35294118 0.45490196\n",
      "  0.37647059 0.45882353 0.44313725 0.53333333 0.36862745 0.43529412\n",
      "  0.57647059 0.63921569 0.12156863 0.74901961 0.57254902 0.5254902\n",
      "  0.80784314 0.22745098 0.         0.        ]\n",
      " [0.         0.         0.         0.15294118 0.50588235 0.4\n",
      "  0.57647059 0.46666667 0.         0.47058824 0.35294118 0.46666667\n",
      "  0.39607843 0.45490196 0.41568627 0.49803922 0.4        0.44705882\n",
      "  0.57254902 0.70588235 0.07843137 0.57254902 0.62352941 0.50588235\n",
      "  0.8        0.2745098  0.         0.        ]\n",
      " [0.         0.         0.         0.22745098 0.49411765 0.43529412\n",
      "  0.63529412 0.39607843 0.08235294 0.51764706 0.34901961 0.48235294\n",
      "  0.42352941 0.41568627 0.4        0.49411765 0.43529412 0.45490196\n",
      "  0.55294118 0.69803922 0.19607843 0.43921569 0.6627451  0.54117647\n",
      "  0.64313725 0.32941176 0.         0.        ]\n",
      " [0.         0.         0.         0.42352941 0.5254902  0.5254902\n",
      "  0.7254902  0.32941176 0.28627451 0.48235294 0.34117647 0.47843137\n",
      "  0.43529412 0.4        0.41568627 0.50196078 0.44705882 0.42745098\n",
      "  0.5254902  0.68235294 0.38039216 0.38431373 0.62745098 0.57647059\n",
      "  0.68627451 0.52941176 0.         0.        ]\n",
      " [0.         0.         0.         0.38039216 0.55686275 0.6627451\n",
      "  0.77647059 0.14509804 0.32941176 0.41960784 0.38039216 0.47843137\n",
      "  0.43921569 0.42745098 0.43921569 0.49411765 0.4        0.37647059\n",
      "  0.51372549 0.6745098  0.50196078 0.2        0.99607843 0.65882353\n",
      "  0.64313725 0.43529412 0.         0.        ]\n",
      " [0.         0.         0.         0.         0.         0.04705882\n",
      "  0.18039216 0.00784314 0.46666667 0.4        0.42745098 0.48235294\n",
      "  0.37647059 0.45490196 0.47843137 0.51764706 0.41568627 0.41568627\n",
      "  0.50588235 0.59215686 0.72156863 0.10196078 0.07843137 0.03137255\n",
      "  0.         0.         0.         0.        ]\n",
      " [0.         0.         0.         0.         0.         0.\n",
      "  0.         0.05098039 0.5372549  0.39607843 0.44705882 0.39215686\n",
      "  0.41568627 0.5254902  0.52941176 0.50588235 0.40784314 0.43529412\n",
      "  0.48235294 0.59215686 0.76078431 0.29019608 0.         0.\n",
      "  0.         0.         0.         0.        ]\n",
      " [0.         0.         0.         0.         0.00392157 0.01176471\n",
      "  0.         0.28627451 0.51764706 0.39607843 0.40784314 0.4\n",
      "  0.54901961 0.42352941 0.42352941 0.51372549 0.41568627 0.46666667\n",
      "  0.44313725 0.55686275 0.65490196 0.52941176 0.         0.00392157\n",
      "  0.         0.         0.         0.        ]\n",
      " [0.         0.         0.         0.         0.         0.\n",
      "  0.         0.43921569 0.4627451  0.41960784 0.40784314 0.54509804\n",
      "  0.42745098 0.38039216 0.48235294 0.54117647 0.41960784 0.49803922\n",
      "  0.47058824 0.53333333 0.63137255 0.62352941 0.         0.\n",
      "  0.00392157 0.         0.         0.        ]\n",
      " [0.         0.         0.         0.         0.         0.01176471\n",
      "  0.         0.55686275 0.58039216 0.43921569 0.41176471 0.39607843\n",
      "  0.3254902  0.49019608 0.48235294 0.56078431 0.40784314 0.45098039\n",
      "  0.39215686 0.49411765 0.65882353 0.69803922 0.02745098 0.\n",
      "  0.00784314 0.         0.         0.        ]\n",
      " [0.         0.         0.         0.         0.         0.00784314\n",
      "  0.         0.03529412 0.49411765 0.72156863 0.78431373 0.65490196\n",
      "  0.63921569 0.67058824 0.58823529 0.65490196 0.61176471 0.68235294\n",
      "  0.77254902 0.71372549 0.63529412 0.23921569 0.         0.\n",
      "  0.         0.         0.         0.        ]\n",
      " [0.         0.         0.         0.         0.         0.\n",
      "  0.         0.         0.         0.         0.11764706 0.28235294\n",
      "  0.37254902 0.42745098 0.43529412 0.43529412 0.41568627 0.39607843\n",
      "  0.27843137 0.04705882 0.         0.         0.         0.\n",
      "  0.         0.         0.         0.        ]]\n"
     ]
    },
    {
     "data": {
      "image/png": "[encoded data removed]",
      "text/plain": [
       "<Figure size 432x288 with 1 Axes>"
      ]
     },
     "metadata": {
      "needs_background": "light"
     },
     "output_type": "display_data"
    }
   ],
   "source": [
    "print(test_labels[4])\n",
    "plt.imshow(test_images[4])\n",
    "print(test_images[4])"
   ]
  },
  {
   "cell_type": "code",
   "execution_count": 41,
   "metadata": {},
   "outputs": [
    {
     "name": "stdout",
     "output_type": "stream",
     "text": [
      "Train on 60000 samples\n",
      "Epoch 1/5\n",
      "60000/60000 [==============================] - 3s 46us/sample - loss: 0.5027 - accuracy: 0.8228\n",
      "Epoch 2/5\n",
      "60000/60000 [==============================] - 2s 40us/sample - loss: 0.3756 - accuracy: 0.8640s - l\n",
      "Epoch 3/5\n",
      "60000/60000 [==============================] - 2s 40us/sample - loss: 0.3366 - accuracy: 0.8787\n",
      "Epoch 4/5\n",
      "60000/60000 [==============================] - 2s 40us/sample - loss: 0.3087 - accuracy: 0.8855\n",
      "Epoch 5/5\n",
      "60000/60000 [==============================] - 2s 40us/sample - loss: 0.2928 - accuracy: 0.8923\n",
      "\n",
      " end of training \n",
      "\n",
      "10000/10000 [==============================] - 0s 30us/sample - loss: 0.3430 - accuracy: 0.8783\n",
      "\n",
      " end of evaluation \n",
      "\n"
     ]
    }
   ],
   "source": [
    "#NN\n",
    "model1=tf.keras.models.Sequential([tf.keras.layers.Flatten(),\n",
    "                       tf.keras.layers.Dense(128,activation=tf.nn.relu),\n",
    "                       tf.keras.layers.Dense(10,activation=tf.nn.softmax)])\n",
    "model1.compile(optimizer=\"adam\", loss=\"sparse_categorical_crossentropy\", metrics=['accuracy'])\n",
    "model1.fit(training_images, training_labels, epochs=5)\n",
    "print(\"\\n end of training \\n\")\n",
    "model1.evaluate(test_images,test_labels)\n",
    "print(\"\\n end of evaluation \\n\")\n",
    "\n",
    "prediction=model1.predict(test_images)\n",
    "print(\"max value is:\",max(prediction[4]))\n",
    "p4=prediction[4]\n",
    "p4=list(p4)\n",
    "print(\"predicted label for test_image 4 is: \", p4.index(max(p4)))"
   ]
  },
  {
   "cell_type": "code",
   "execution_count": 58,
   "metadata": {},
   "outputs": [
    {
     "name": "stdout",
     "output_type": "stream",
     "text": [
      "max value is: 0.85189676\n",
      "predicted label for test_image 4 is:  6\n"
     ]
    }
   ],
   "source": []
  },
  {
   "cell_type": "code",
   "execution_count": 57,
   "metadata": {},
   "outputs": [
    {
     "name": "stdout",
     "output_type": "stream",
     "text": [
      "[7.7003352e-02 1.1458023e-06 6.5455168e-02 1.4685285e-03 3.7992722e-03\n",
      " 2.3616980e-05 8.5189676e-01 2.2153539e-07 3.5137206e-04 5.3170749e-07]\n",
      "<class 'numpy.ndarray'>\n",
      "<class 'list'>\n",
      "6\n"
     ]
    }
   ],
   "source": []
  },
  {
   "cell_type": "code",
   "execution_count": null,
   "metadata": {},
   "outputs": [],
   "source": []
  }
 ],
 "metadata": {
  "kernelspec": {
   "display_name": "Python [conda env:AliTF] *",
   "language": "python",
   "name": "conda-env-AliTF-py"
  },
  "language_info": {
   "codemirror_mode": {
    "name": "ipython",
    "version": 3
   },
   "file_extension": ".py",
   "mimetype": "text/x-python",
   "name": "python",
   "nbconvert_exporter": "python",
   "pygments_lexer": "ipython3",
   "version": "3.7.9"
  }
 },
 "nbformat": 4,
 "nbformat_minor": 4
}
